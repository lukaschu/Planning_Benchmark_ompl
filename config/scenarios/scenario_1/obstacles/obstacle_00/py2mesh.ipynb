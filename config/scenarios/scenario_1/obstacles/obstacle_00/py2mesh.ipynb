{
 "cells": [
  {
   "cell_type": "code",
   "execution_count": 2,
   "metadata": {},
   "outputs": [
    {
     "name": "stdout",
     "output_type": "stream",
     "text": [
      "Jupyter environment detected. Enabling Open3D WebVisualizer.\n",
      "[Open3D INFO] WebRTC GUI backend enabled.\n",
      "[Open3D INFO] WebRTCWindowSystem: HTTP handshake server disabled.\n"
     ]
    }
   ],
   "source": [
    "import open3d as o3d\n",
    "import trimesh\n",
    "import numpy as np"
   ]
  },
  {
   "cell_type": "code",
   "execution_count": 3,
   "metadata": {},
   "outputs": [],
   "source": [
    "\n",
    "pcd = o3d.io.read_point_cloud(\"mesh.ply\")\n",
    "\n",
    "pcd.estimate_normals()\n"
   ]
  },
  {
   "cell_type": "code",
   "execution_count": null,
   "metadata": {},
   "outputs": [],
   "source": [
    "\n",
    "## estimate radius for rolling ball\n",
    "# distances = pcd.compute_nearest_neighbor_distance()\n",
    "# avg_dist = np.mean(distances)\n",
    "# radius = 2 * avg_dist\n",
    "\n",
    "# mesh = o3d.geometry.TriangleMesh.create_from_point_cloud_ball_pivoting(\n",
    "#     pcd,\n",
    "#     o3d.utility.DoubleVector([radius, radius * 2, radius * 5, radius * 7]),\n",
    "# )\n"
   ]
  },
  {
   "cell_type": "code",
   "execution_count": 31,
   "metadata": {},
   "outputs": [],
   "source": [
    "\n",
    "## poisson\n",
    "\n",
    "mesh, densities = o3d.geometry.TriangleMesh.create_from_point_cloud_poisson(\n",
    "    pcd, depth=15\n",
    ")\n",
    "\n",
    "\n",
    "mesh.paint_uniform_color([192 / 365, 192 / 365, 192 / 365])\n",
    "mesh = o3d.geometry.TriangleMesh.compute_triangle_normals(mesh)\n",
    "o3d.visualization.draw_geometries([mesh])"
   ]
  },
  {
   "cell_type": "code",
   "execution_count": 10,
   "metadata": {},
   "outputs": [
    {
     "ename": "KeyboardInterrupt",
     "evalue": "",
     "output_type": "error",
     "traceback": [
      "\u001b[0;31m---------------------------------------------------------------------------\u001b[0m",
      "\u001b[0;31mKeyboardInterrupt\u001b[0m                         Traceback (most recent call last)",
      "Cell \u001b[0;32mIn[10], line 6\u001b[0m\n\u001b[1;32m      2\u001b[0m mesh_filtered\u001b[39m.\u001b[39mcompute_vertex_normals()\n\u001b[1;32m      4\u001b[0m mesh_filtered\u001b[39m.\u001b[39mpaint_uniform_color([\u001b[39m255\u001b[39m \u001b[39m/\u001b[39m \u001b[39m365\u001b[39m, \u001b[39m102\u001b[39m \u001b[39m/\u001b[39m \u001b[39m365\u001b[39m, \u001b[39m102\u001b[39m \u001b[39m/\u001b[39m \u001b[39m365\u001b[39m])\n\u001b[0;32m----> 6\u001b[0m o3d\u001b[39m.\u001b[39;49mvisualization\u001b[39m.\u001b[39;49mdraw_geometries([ mesh_filtered])\n",
      "\u001b[0;31mKeyboardInterrupt\u001b[0m: "
     ]
    }
   ],
   "source": [
    "\n",
    "mesh_filtered = mesh.filter_smooth_simple(number_of_iterations=5)\n",
    "mesh_filtered.compute_vertex_normals()\n",
    "\n",
    "mesh_filtered.paint_uniform_color([255 / 365, 102 / 365, 102 / 365])\n",
    "\n",
    "o3d.visualization.draw_geometries([mesh, mesh_filtered])\n"
   ]
  },
  {
   "cell_type": "code",
   "execution_count": 32,
   "metadata": {},
   "outputs": [
    {
     "name": "stdout",
     "output_type": "stream",
     "text": [
      "voxel_size = 2.517278e-02\n"
     ]
    }
   ],
   "source": [
    "voxel_size = max(mesh.get_max_bound() - mesh.get_min_bound()) / 64\n",
    "print(f'voxel_size = {voxel_size:e}')\n",
    "mesh_smp = mesh.simplify_vertex_clustering(\n",
    "    voxel_size=voxel_size,\n",
    "    contraction=o3d.geometry.SimplificationContraction.Average)\n",
    "\n",
    "\n",
    "mesh_smp.paint_uniform_color([255 / 365, 102 / 365, 102 / 365])\n",
    "mesh_smp.compute_vertex_normals()\n",
    "\n",
    "o3d.visualization.draw_geometries([mesh_smp])"
   ]
  },
  {
   "cell_type": "code",
   "execution_count": 34,
   "metadata": {},
   "outputs": [
    {
     "data": {
      "text/plain": [
       "True"
      ]
     },
     "execution_count": 34,
     "metadata": {},
     "output_type": "execute_result"
    }
   ],
   "source": [
    "o3d.io.write_triangle_mesh(\"mesh.stl\", mesh_smp)"
   ]
  }
 ],
 "metadata": {
  "kernelspec": {
   "display_name": "Python 3",
   "language": "python",
   "name": "python3"
  },
  "language_info": {
   "codemirror_mode": {
    "name": "ipython",
    "version": 3
   },
   "file_extension": ".py",
   "mimetype": "text/x-python",
   "name": "python",
   "nbconvert_exporter": "python",
   "pygments_lexer": "ipython3",
   "version": "3.8.10"
  },
  "orig_nbformat": 4
 },
 "nbformat": 4,
 "nbformat_minor": 2
}
